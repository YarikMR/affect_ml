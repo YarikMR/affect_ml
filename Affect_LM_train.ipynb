{
 "cells": [
  {
   "cell_type": "code",
   "execution_count": 2,
   "metadata": {},
   "outputs": [],
   "source": [
    "from preprocess import EmotionStimulus, DailyDialog, ISEAR\n",
    "from utils import NCRlexicon2dict, lexicon_one_hot_encoding, sentence_strength\n",
    "from typing import Dict\n",
    "import numpy as np\n",
    "import collections"
   ]
  },
  {
   "cell_type": "code",
   "execution_count": null,
   "metadata": {},
   "outputs": [],
   "source": [
    "preprocessor = EmotionStimulus('/Users/yarikmenchaca/Documents/Datasets/Emotion_Cause/')\n",
    "texts = preprocessor.sentences"
   ]
  },
  {
   "cell_type": "code",
   "execution_count": 3,
   "metadata": {},
   "outputs": [],
   "source": [
    "preprocessor = DailyDialog('/Users/yarikmenchaca/Documents/Datasets/ijcnlp_dailydialog')\n",
    "texts = preprocessor.sentences\n"
   ]
  },
  {
   "cell_type": "code",
   "execution_count": 7,
   "metadata": {},
   "outputs": [
    {
     "data": {
      "text/plain": [
       "102979"
      ]
     },
     "execution_count": 7,
     "metadata": {},
     "output_type": "execute_result"
    }
   ],
   "source": [
    "len(preprocessor.sentence_tags)"
   ]
  },
  {
   "cell_type": "code",
   "execution_count": 8,
   "metadata": {},
   "outputs": [],
   "source": [
    "preprocessor = ISEAR('/Users/yarikmenchaca/Documents/Datasets/eng_dataset.csv')\n",
    "texts = preprocessor.sentences"
   ]
  },
  {
   "cell_type": "code",
   "execution_count": 12,
   "metadata": {},
   "outputs": [
    {
     "data": {
      "text/plain": [
       "{'anger', 'fear', 'joy', 'sadness'}"
      ]
     },
     "execution_count": 12,
     "metadata": {},
     "output_type": "execute_result"
    }
   ],
   "source": [
    "preprocessor.emotions"
   ]
  },
  {
   "cell_type": "markdown",
   "metadata": {},
   "source": [
    "# NCR labels\n",
    "Get text class using the NCR, "
   ]
  },
  {
   "cell_type": "code",
   "execution_count": null,
   "metadata": {},
   "outputs": [],
   "source": [
    "ncr_lexicon = NCRlexicon2dict('/Users/yarikmenchaca/Documents/Datasets/NRC-Emotion-Lexicon-Wordlevel-v0.92.txt')"
   ]
  },
  {
   "cell_type": "code",
   "execution_count": null,
   "metadata": {},
   "outputs": [],
   "source": [
    "emotion_encoding = list()\n",
    "for sentence in texts:\n",
    "    emotion_encoding.append(lexicon_one_hot_encoding(sentence, ncr_lexicon))\n",
    "    \n",
    "sentences_strength = list()\n",
    "for sentence in texts:\n",
    "    sentences_strength.append([sentence_strength(sentence, ncr_lexicon)])"
   ]
  },
  {
   "cell_type": "code",
   "execution_count": null,
   "metadata": {},
   "outputs": [],
   "source": [
    "len(emotion_encoding), len(sentences_strength), len(texts)"
   ]
  },
  {
   "cell_type": "markdown",
   "metadata": {},
   "source": [
    "# Preprocess sentences"
   ]
  },
  {
   "cell_type": "code",
   "execution_count": null,
   "metadata": {},
   "outputs": [],
   "source": [
    "from tensorflow.keras.preprocessing.text import Tokenizer\n",
    "from tensorflow.keras.preprocessing.sequence import pad_sequences\n",
    "import tensorflow.keras.utils as ku"
   ]
  },
  {
   "cell_type": "code",
   "execution_count": null,
   "metadata": {},
   "outputs": [],
   "source": [
    "tokenizer = Tokenizer(10000, oov_token = \"<OOV>\")\n",
    "tokenizer.fit_on_texts(texts)\n",
    "total_words = len(tokenizer.word_index)  + 1\n",
    "print(total_words)"
   ]
  },
  {
   "cell_type": "code",
   "execution_count": null,
   "metadata": {},
   "outputs": [],
   "source": [
    "#create n_grams\n",
    "# need to expanda the emotions_encoding, and strenght to match expanded, ngrams\n",
    "input_sentences = list()\n",
    "expanded_emotion_encodign = list()\n",
    "expanded_setence_strength = list()\n",
    "\n",
    "for token_list, emotion, s_strength in zip(tokenizer.texts_to_sequences(texts), emotion_encoding, sentences_strength) :\n",
    "    for i in range(1, len(token_list)):\n",
    "        n_gram_sequence = token_list[:i+1]\n",
    "        input_sentences.append(n_gram_sequence)\n",
    "        expanded_emotion_encodign.append(emotion)\n",
    "        expanded_setence_strength.append(s_strength)"
   ]
  },
  {
   "cell_type": "code",
   "execution_count": null,
   "metadata": {},
   "outputs": [],
   "source": [
    "# pad sentences\n",
    "max_sequence_len = max([len(x) for x in input_sentences])\n",
    "input_sentences = np.array(pad_sequences(input_sentences,maxlen=max_sequence_len))\n",
    "print(max_sequence_len)"
   ]
  },
  {
   "cell_type": "code",
   "execution_count": null,
   "metadata": {},
   "outputs": [],
   "source": [
    "# create predictor & labes by taking the last value\n",
    "predictor, label = input_sentences[:,:-1], input_sentences[:,-1]\n",
    "word_label = ku.to_categorical(label, num_classes=total_words)"
   ]
  },
  {
   "cell_type": "code",
   "execution_count": null,
   "metadata": {},
   "outputs": [],
   "source": [
    "len(predictor), len(expanded_emotion_encodign), len(expanded_setence_strength)"
   ]
  },
  {
   "cell_type": "code",
   "execution_count": null,
   "metadata": {},
   "outputs": [],
   "source": [
    "len(predictor[0]),len(expanded_emotion_encodign[0]), len(expanded_setence_strength[0])"
   ]
  },
  {
   "cell_type": "code",
   "execution_count": null,
   "metadata": {},
   "outputs": [],
   "source": [
    "# Create conditional vector emotion_condition, emotion_strength\n",
    "conditional_vector = np.concatenate((np.array(expanded_emotion_encodign), \n",
    "                                     np.array(expanded_setence_strength)), axis = 1)\n",
    "print(predictor.shape, conditional_vector.shape)\n"
   ]
  },
  {
   "cell_type": "code",
   "execution_count": null,
   "metadata": {},
   "outputs": [],
   "source": [
    "# single input \n",
    "single_vector = np.concatenate((predictor, conditional_vector), axis = 1)\n",
    "print(single_vector.shape)"
   ]
  },
  {
   "cell_type": "markdown",
   "metadata": {},
   "source": [
    "# LSTM Model"
   ]
  },
  {
   "cell_type": "code",
   "execution_count": null,
   "metadata": {},
   "outputs": [],
   "source": [
    "from tensorflow.keras.layers import Embedding, LSTM, Dense, Dropout, Bidirectional, concatenate, Flatten\n",
    "from tensorflow.keras.models import Sequential\n",
    "import tensorflow as tf"
   ]
  },
  {
   "cell_type": "code",
   "execution_count": null,
   "metadata": {},
   "outputs": [],
   "source": [
    "max_sequence_len\n",
    "conditiona = conditional_vector"
   ]
  },
  {
   "cell_type": "code",
   "execution_count": null,
   "metadata": {
    "jupyter": {
     "source_hidden": true
    }
   },
   "outputs": [],
   "source": [
    "# funtional API\n",
    "\n",
    "# Input layers\n",
    "text_input = tf.keras.Input(shape=(max_sequence_len), name = 'text')\n",
    "conditional_input = tf.keras.Input(shape=(conditional_vector.shape[1]), name = 'condition')\n",
    "\n",
    "# embbeding layer\n",
    "text_embedding = Embedding(total_words, 300, name = 'text_embedding')(text_input)\n",
    "text_embedding = Flatten()(text_embedding)\n",
    "\n",
    "# concatenate layers\n",
    "concatenate_layer = concatenate([text_embedding, conditional_input], name = 'Concatenate')\n",
    "lstm_layer = LSTM(150)(concatenate_layer)\n",
    "dense1_layer = Dense(200, activation='relu')(lstm_layer)\n",
    "dense2_layer = Dense(200, activation='relu')(dense1_layer)\n",
    "classification = Dense(total_words, activation='softmax')(dense2_layer)"
   ]
  },
  {
   "cell_type": "code",
   "execution_count": null,
   "metadata": {},
   "outputs": [],
   "source": [
    "model = Sequential()\n",
    "model.add(Embedding(total_words, 300, input_length= single_vector.shape[1]))\n",
    "model.add(LSTM(150))\n",
    "model.add(Dense(200, activation='relu'))\n",
    "model.add(Dense(200, activation='relu'))\n",
    "model.add(Dense(total_words, activation='softmax'))\n",
    "\n",
    "model.compile(loss='categorical_crossentropy', optimizer='adam', metrics=['accuracy'])\n",
    "print(model.summary())"
   ]
  },
  {
   "cell_type": "code",
   "execution_count": null,
   "metadata": {},
   "outputs": [],
   "source": [
    "history = model.fit(single_vector, word_label, epochs=20, batch_size = 20)"
   ]
  },
  {
   "cell_type": "code",
   "execution_count": null,
   "metadata": {},
   "outputs": [],
   "source": [
    "# save models\n",
    "model.save('affect_ml_emotion_cause.h5')"
   ]
  },
  {
   "cell_type": "code",
   "execution_count": null,
   "metadata": {},
   "outputs": [],
   "source": [
    "import io\n",
    "import json\n",
    "\n",
    "tokenizer_json = tokenizer.to_json()\n",
    "with io.open('affect_ml_emotion_cause_tokenizer.json', 'w', encoding='utf-8') as f:\n",
    "    f.write(json.dumps(tokenizer_json, ensure_ascii=False))"
   ]
  },
  {
   "cell_type": "markdown",
   "metadata": {},
   "source": [
    "# Generate Text"
   ]
  },
  {
   "cell_type": "code",
   "execution_count": null,
   "metadata": {},
   "outputs": [],
   "source": [
    "def generate_conditional_text(seed_text: str,\n",
    "                              seed_emotion: str,\n",
    "                              seed_strength: str, \n",
    "                              next_words: int = 20)-> str:\n",
    "    # Generete conditonal vector\n",
    "    seed_emotion_encoding = np.zeros (len(ncr_lexicon))\n",
    "    for index, emotion in enumerate(ncr_lexicon):\n",
    "        if emotion == seed_emotion:\n",
    "            seed_emotion_encoding[index] = 1\n",
    "\n",
    "    seed_conditional_vector = np.concatenate((seed_emotion_encoding, np.array([seed_strength])))\n",
    "    \n",
    "    # Generate conditional text\n",
    "    for _ in range(next_words):\n",
    "        token_list = tokenizer.texts_to_sequences([seed_text])[0]\n",
    "        token_list = pad_sequences([token_list], maxlen=max_sequence_len-1)\n",
    "        token_list_conditional = np.concatenate((token_list[0], seed_conditional_vector))\n",
    "        predicted = model.predict_classes([token_list], verbose=0)\n",
    "        output_word = \"\"\n",
    "        for word, index in tokenizer.word_index.items():\n",
    "            if index == predicted:\n",
    "                output_word = word\n",
    "                break\n",
    "        seed_text += \" \" + output_word\n",
    "    \n",
    "    return seed_text"
   ]
  },
  {
   "cell_type": "code",
   "execution_count": null,
   "metadata": {},
   "outputs": [],
   "source": [
    "# available emotions\n",
    "ncr_lexicon.keys()"
   ]
  },
  {
   "cell_type": "code",
   "execution_count": null,
   "metadata": {},
   "outputs": [],
   "source": [
    "seed_text = \"I enjoy to\"\n",
    "seed_emotion = 'joy'\n",
    "seed_strength = 2\n",
    "\n",
    "next_words = 20\n"
   ]
  },
  {
   "cell_type": "code",
   "execution_count": null,
   "metadata": {},
   "outputs": [],
   "source": [
    "generate_conditional_text(seed_text, seed_emotion, seed_strength, 30 )"
   ]
  },
  {
   "cell_type": "code",
   "execution_count": null,
   "metadata": {},
   "outputs": [],
   "source": [
    "# Generete conditonal vector\n",
    "seed_emotion_encoding = np.zeros (len(ncr_lexicon))\n",
    "for index, emotion in enumerate(ncr_lexicon):\n",
    "    if emotion == seed_emotion:\n",
    "        seed_emotion_encoding[index] = 1\n",
    "        \n",
    "seed_conditional_vector = np.concatenate((seed_emotion_encoding, np.array([seed_strength])))"
   ]
  },
  {
   "cell_type": "code",
   "execution_count": null,
   "metadata": {},
   "outputs": [],
   "source": [
    "seed_conditional_vector"
   ]
  },
  {
   "cell_type": "code",
   "execution_count": null,
   "metadata": {},
   "outputs": [],
   "source": [
    "for _ in range(next_words):\n",
    "    token_list = tokenizer.texts_to_sequences([seed_text])[0]\n",
    "    token_list = pad_sequences([token_list], maxlen=max_sequence_len-1)\n",
    "    token_list_conditional = np.concatenate((token_list[0], seed_conditional_vector))\n",
    "    predicted = model.predict_classes([token_list], verbose=0)\n",
    "    output_word = \"\"\n",
    "    for word, index in tokenizer.word_index.items():\n",
    "        if index == predicted:\n",
    "            output_word = word\n",
    "            break\n",
    "    seed_text += \" \" + output_word\n",
    "print(seed_text)"
   ]
  }
 ],
 "metadata": {
  "kernelspec": {
   "display_name": "Python [conda env:affectlm]",
   "language": "python",
   "name": "conda-env-affectlm-py"
  },
  "language_info": {
   "codemirror_mode": {
    "name": "ipython",
    "version": 3
   },
   "file_extension": ".py",
   "mimetype": "text/x-python",
   "name": "python",
   "nbconvert_exporter": "python",
   "pygments_lexer": "ipython3",
   "version": "3.6.13"
  }
 },
 "nbformat": 4,
 "nbformat_minor": 4
}
