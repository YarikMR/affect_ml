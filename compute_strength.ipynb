{
  "nbformat": 4,
  "nbformat_minor": 0,
  "metadata": {
    "accelerator": "GPU",
    "colab": {
      "name": "compute_strength.ipynb",
      "provenance": []
    },
    "kernelspec": {
      "display_name": "Python 3",
      "name": "python3"
    },
    "language_info": {
      "name": "python"
    }
  },
  "cells": [
    {
      "cell_type": "markdown",
      "metadata": {
        "id": "2Ri9WCR3yQfa"
      },
      "source": [
        "Google Colab Setup"
      ]
    },
    {
      "cell_type": "code",
      "metadata": {
        "colab": {
          "base_uri": "https://localhost:8080/"
        },
        "id": "OzX4z9LZx-2t",
        "outputId": "31702173-bcd8-48a1-fcb1-232eb12b4f05"
      },
      "source": [
        "# setup\n",
        "!pip install -q tensorflow-text"
      ],
      "execution_count": 1,
      "outputs": [
        {
          "output_type": "stream",
          "text": [
            "\u001b[K     |████████████████████████████████| 4.3MB 7.7MB/s \n",
            "\u001b[?25h"
          ],
          "name": "stdout"
        }
      ]
    },
    {
      "cell_type": "code",
      "metadata": {
        "id": "RUslCU8bwkDh"
      },
      "source": [
        "import tensorflow as tf\n",
        "import tensorflow_hub as hub\n",
        "import tensorflow_text as text"
      ],
      "execution_count": 2,
      "outputs": []
    },
    {
      "cell_type": "markdown",
      "metadata": {
        "id": "HthYnOzCBYiB"
      },
      "source": [
        "# Load pretrain classifier"
      ]
    },
    {
      "cell_type": "code",
      "metadata": {
        "id": "uC_2z9O6BcsY"
      },
      "source": [
        "#model_name = 'bert_Emotion_Stimulus.h5'\n",
        "#class_names = ['anger', 'disgust', 'fear', 'happy', 'sad', 'shame', 'surprise']\n",
        "\n",
        "#model_name = 'bert_daily_dialog.h5'\n",
        "#class_names = ['anger', 'disgust', 'fear', 'happiness', 'sadness', 'surprise']\n",
        "\n",
        "#model_name = 'bert_ISEAR.h5'\n",
        "#class_names = ['anger', 'fear', 'joy', 'sadness']\n",
        "\n",
        "model_name = 'bert_affective_text.h5'\n",
        "class_names = ['anger', 'disgust', 'fear', 'joy', 'sadness', 'surprise']"
      ],
      "execution_count": 3,
      "outputs": []
    },
    {
      "cell_type": "code",
      "metadata": {
        "id": "wxDX8vq1xrYX"
      },
      "source": [
        "my_reloaded_model = tf.keras.models.load_model((model_name),\n",
        "                                               custom_objects={'KerasLayer':hub.KerasLayer})\n"
      ],
      "execution_count": 4,
      "outputs": []
    },
    {
      "cell_type": "code",
      "metadata": {
        "id": "Jsa5ah1dB28Q"
      },
      "source": [
        "def get_emotions(sentences: list)->list:\n",
        "  emotions = my_reloaded_model.predict(sentences)\n",
        "  return [ (sentence, class_names[prediction.argmax()], prediction.max()) \n",
        "  for sentence, prediction in zip(sentences, emotions)]"
      ],
      "execution_count": 5,
      "outputs": []
    },
    {
      "cell_type": "markdown",
      "metadata": {
        "id": "KFyxhjm2BnCh"
      },
      "source": [
        "# Load & proprocess datsets"
      ]
    },
    {
      "cell_type": "code",
      "metadata": {
        "id": "ma2p0IRVB7PV"
      },
      "source": [
        "from preprocess import EmotionStimulus, DailyDialog, ISEAR, AffectiveText\n",
        "import shutil\n",
        "import pandas as pd\n",
        "shutil.unpack_archive('Datasets.zip')"
      ],
      "execution_count": 10,
      "outputs": []
    },
    {
      "cell_type": "code",
      "metadata": {
        "id": "_XTp7Df0Co19"
      },
      "source": [
        "def get_strength(sentences, emotions):\n",
        "  emotion_predictions = get_emotions(sentences)\n",
        "  sentence_strength = list()\n",
        "  for prediction, emotion in zip(emotion_predictions, emotions):\n",
        "    if prediction[1] == emotion:\n",
        "      s_strength = prediction[2]\n",
        "    else:\n",
        "      s_strength = 0\n",
        "    sentence_strength.append([prediction[0], emotion, s_strength])\n",
        "  return sentence_strength"
      ],
      "execution_count": 8,
      "outputs": []
    },
    {
      "cell_type": "code",
      "metadata": {
        "id": "Jj055un9Cc5M"
      },
      "source": [
        "#preprocessor = EmotionStimulus('Datasets/Emotion_Cause/')\n",
        "#preprocessor = DailyDialog('Datasets/ijcnlp_dailydialog')\n",
        "#preprocessor = ISEAR('Datasets/eng_dataset.csv')\n",
        "preprocessor = AffectiveText('Datasets/AffectiveText.Semeval.2007/')\n",
        "\n",
        "\n",
        "texts = preprocessor.sentences\n",
        "emotions = preprocessor.tags\n",
        "\n"
      ],
      "execution_count": 11,
      "outputs": []
    },
    {
      "cell_type": "code",
      "metadata": {
        "colab": {
          "base_uri": "https://localhost:8080/"
        },
        "id": "RQdckydlMxhJ",
        "outputId": "bfca8808-cf8e-4042-e232-1fe34f4eea19"
      },
      "source": [
        "len(texts),len(emotions)"
      ],
      "execution_count": 12,
      "outputs": [
        {
          "output_type": "execute_result",
          "data": {
            "text/plain": [
              "(1246, 1246)"
            ]
          },
          "metadata": {
            "tags": []
          },
          "execution_count": 12
        }
      ]
    },
    {
      "cell_type": "code",
      "metadata": {
        "id": "28UYYjSiCvm-"
      },
      "source": [
        "sentence_emotion_strength = get_strength(texts, emotions)"
      ],
      "execution_count": 13,
      "outputs": []
    },
    {
      "cell_type": "code",
      "metadata": {
        "id": "uUR5O6rDEEUX"
      },
      "source": [
        "df = pd.DataFrame(sentence_emotion_strength, columns=['text', 'emotion','strength'])\n",
        "df.to_csv('AffectiveText_strength.csv')"
      ],
      "execution_count": 14,
      "outputs": []
    },
    {
      "cell_type": "code",
      "metadata": {
        "colab": {
          "base_uri": "https://localhost:8080/",
          "height": 419
        },
        "id": "TN_TztskEhk3",
        "outputId": "040e4979-4e73-4c9b-891b-dde0bc4872b6"
      },
      "source": [
        "df"
      ],
      "execution_count": 15,
      "outputs": [
        {
          "output_type": "execute_result",
          "data": {
            "text/html": [
              "<div>\n",
              "<style scoped>\n",
              "    .dataframe tbody tr th:only-of-type {\n",
              "        vertical-align: middle;\n",
              "    }\n",
              "\n",
              "    .dataframe tbody tr th {\n",
              "        vertical-align: top;\n",
              "    }\n",
              "\n",
              "    .dataframe thead th {\n",
              "        text-align: right;\n",
              "    }\n",
              "</style>\n",
              "<table border=\"1\" class=\"dataframe\">\n",
              "  <thead>\n",
              "    <tr style=\"text-align: right;\">\n",
              "      <th></th>\n",
              "      <th>text</th>\n",
              "      <th>emotion</th>\n",
              "      <th>strength</th>\n",
              "    </tr>\n",
              "  </thead>\n",
              "  <tbody>\n",
              "    <tr>\n",
              "      <th>0</th>\n",
              "      <td>Test to predict breast cancer relapse is approved</td>\n",
              "      <td>joy</td>\n",
              "      <td>0.997365</td>\n",
              "    </tr>\n",
              "    <tr>\n",
              "      <th>1</th>\n",
              "      <td>Two Hussein allies are hanged, Iraqi official ...</td>\n",
              "      <td>sadness</td>\n",
              "      <td>0.998487</td>\n",
              "    </tr>\n",
              "    <tr>\n",
              "      <th>2</th>\n",
              "      <td>Sights and sounds from CES</td>\n",
              "      <td>joy</td>\n",
              "      <td>0.997521</td>\n",
              "    </tr>\n",
              "    <tr>\n",
              "      <th>3</th>\n",
              "      <td>Schuey sees Ferrari unveil new car</td>\n",
              "      <td>joy</td>\n",
              "      <td>0.996815</td>\n",
              "    </tr>\n",
              "    <tr>\n",
              "      <th>4</th>\n",
              "      <td>Closings and cancellations top advice on flu o...</td>\n",
              "      <td>fear</td>\n",
              "      <td>0.938222</td>\n",
              "    </tr>\n",
              "    <tr>\n",
              "      <th>...</th>\n",
              "      <td>...</td>\n",
              "      <td>...</td>\n",
              "      <td>...</td>\n",
              "    </tr>\n",
              "    <tr>\n",
              "      <th>1241</th>\n",
              "      <td>Amish killings school demolished</td>\n",
              "      <td>sadness</td>\n",
              "      <td>0.995132</td>\n",
              "    </tr>\n",
              "    <tr>\n",
              "      <th>1242</th>\n",
              "      <td>Pamuk wins Nobel Literature prize</td>\n",
              "      <td>joy</td>\n",
              "      <td>0.996581</td>\n",
              "    </tr>\n",
              "    <tr>\n",
              "      <th>1243</th>\n",
              "      <td>Madonna adoption bid approved</td>\n",
              "      <td>joy</td>\n",
              "      <td>0.997431</td>\n",
              "    </tr>\n",
              "    <tr>\n",
              "      <th>1244</th>\n",
              "      <td>Man admits UK-US terror bomb plot</td>\n",
              "      <td>fear</td>\n",
              "      <td>0.000000</td>\n",
              "    </tr>\n",
              "    <tr>\n",
              "      <th>1245</th>\n",
              "      <td>Who are you calling fat?</td>\n",
              "      <td>disgust</td>\n",
              "      <td>0.000000</td>\n",
              "    </tr>\n",
              "  </tbody>\n",
              "</table>\n",
              "<p>1246 rows × 3 columns</p>\n",
              "</div>"
            ],
            "text/plain": [
              "                                                   text  emotion  strength\n",
              "0     Test to predict breast cancer relapse is approved      joy  0.997365\n",
              "1     Two Hussein allies are hanged, Iraqi official ...  sadness  0.998487\n",
              "2                            Sights and sounds from CES      joy  0.997521\n",
              "3                    Schuey sees Ferrari unveil new car      joy  0.996815\n",
              "4     Closings and cancellations top advice on flu o...     fear  0.938222\n",
              "...                                                 ...      ...       ...\n",
              "1241                  Amish killings school demolished   sadness  0.995132\n",
              "1242                  Pamuk wins Nobel Literature prize      joy  0.996581\n",
              "1243                     Madonna adoption bid approved       joy  0.997431\n",
              "1244                  Man admits UK-US terror bomb plot     fear  0.000000\n",
              "1245                           Who are you calling fat?  disgust  0.000000\n",
              "\n",
              "[1246 rows x 3 columns]"
            ]
          },
          "metadata": {
            "tags": []
          },
          "execution_count": 15
        }
      ]
    },
    {
      "cell_type": "code",
      "metadata": {
        "id": "pl3xbz1DIIPD"
      },
      "source": [
        ""
      ],
      "execution_count": null,
      "outputs": []
    }
  ]
}